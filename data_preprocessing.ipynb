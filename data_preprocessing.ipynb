{
  "nbformat": 4,
  "nbformat_minor": 0,
  "metadata": {
    "colab": {
      "provenance": []
    },
    "kernelspec": {
      "name": "python3",
      "display_name": "Python 3"
    },
    "language_info": {
      "name": "python"
    }
  },
  "cells": [
    {
      "cell_type": "code",
      "execution_count": 44,
      "metadata": {
        "id": "XJZHcWNXwBWx"
      },
      "outputs": [],
      "source": [
        "import pandas as pd\n",
        "import numpy as np\n",
        "import seaborn as sns"
      ]
    },
    {
      "cell_type": "code",
      "source": [
        "  # Loading datasets\n",
        "locations = pd.read_csv(\"https://raw.githubusercontent.com/gabriellecastilho/datasets/master/indonesia_tourism.csv\")\n",
        "ratings = pd.read_csv(\"https://raw.githubusercontent.com/gabriellecastilho/datasets/master/indonesia_tourism_rating.csv\")\n",
        "users = pd.read_csv(\"https://raw.githubusercontent.com/gabriellecastilho/datasets/master/indonesia_tourism_user.csv\")\n",
        "\n",
        "    # Merging / Joining datasets\n",
        "main_table = pd.merge(ratings, users, on='User_Id', how='inner')\n",
        "main_table = pd.merge(main_table, locations, on=\"Place_Id\", how=\"inner\")\n",
        "main_table.head"
      ],
      "metadata": {
        "colab": {
          "base_uri": "https://localhost:8080/"
        },
        "id": "cwnvZ3txwV-C",
        "outputId": "dddb571d-35e9-40aa-82c9-1c3ae9088df8"
      },
      "execution_count": 45,
      "outputs": [
        {
          "output_type": "execute_result",
          "data": {
            "text/plain": [
              "<bound method NDFrame.head of       User_Id  Place_Id  Place_Ratings                    Location  Age  \\\n",
              "0           1       179              3       Semarang, Jawa Tengah   20   \n",
              "1          22       179              4          Subang, Jawa Barat   25   \n",
              "2          40       179              3       Semarang, Jawa Tengah   27   \n",
              "3          49       179              5  Jakarta Pusat, DKI Jakarta   24   \n",
              "4          74       179              3       Semarang, Jawa Tengah   30   \n",
              "...       ...       ...            ...                         ...  ...   \n",
              "9995      240       140              3         Cirebon, Jawa Barat   22   \n",
              "9996      247       140              4          Bekasi, Jawa Barat   28   \n",
              "9997      261       140              4             Yogyakarta, DIY   38   \n",
              "9998      267       140              3       Semarang, Jawa Tengah   31   \n",
              "9999      268       140              2             Yogyakarta, DIY   32   \n",
              "\n",
              "           Place_Name                                        Description  \\\n",
              "0     Candi Ratu Boko  Situs Ratu Baka atau Candi Boko (Hanacaraka:ꦕꦤ...   \n",
              "1     Candi Ratu Boko  Situs Ratu Baka atau Candi Boko (Hanacaraka:ꦕꦤ...   \n",
              "2     Candi Ratu Boko  Situs Ratu Baka atau Candi Boko (Hanacaraka:ꦕꦤ...   \n",
              "3     Candi Ratu Boko  Situs Ratu Baka atau Candi Boko (Hanacaraka:ꦕꦤ...   \n",
              "4     Candi Ratu Boko  Situs Ratu Baka atau Candi Boko (Hanacaraka:ꦕꦤ...   \n",
              "...               ...                                                ...   \n",
              "9995    Bendung Lepen  Bendung Lepen sendiri dulunya merupakan salura...   \n",
              "9996    Bendung Lepen  Bendung Lepen sendiri dulunya merupakan salura...   \n",
              "9997    Bendung Lepen  Bendung Lepen sendiri dulunya merupakan salura...   \n",
              "9998    Bendung Lepen  Bendung Lepen sendiri dulunya merupakan salura...   \n",
              "9999    Bendung Lepen  Bendung Lepen sendiri dulunya merupakan salura...   \n",
              "\n",
              "           Category        City  Price  Rating  Time_Minutes  \\\n",
              "0            Budaya  Yogyakarta  75000     4.6          90.0   \n",
              "1            Budaya  Yogyakarta  75000     4.6          90.0   \n",
              "2            Budaya  Yogyakarta  75000     4.6          90.0   \n",
              "3            Budaya  Yogyakarta  75000     4.6          90.0   \n",
              "4            Budaya  Yogyakarta  75000     4.6          90.0   \n",
              "...             ...         ...    ...     ...           ...   \n",
              "9995  Taman Hiburan  Yogyakarta      0     4.6          60.0   \n",
              "9996  Taman Hiburan  Yogyakarta      0     4.6          60.0   \n",
              "9997  Taman Hiburan  Yogyakarta      0     4.6          60.0   \n",
              "9998  Taman Hiburan  Yogyakarta      0     4.6          60.0   \n",
              "9999  Taman Hiburan  Yogyakarta      0     4.6          60.0   \n",
              "\n",
              "                                           Coordinate       Lat        Long  \\\n",
              "0             {'lat': -7.7705416, 'lng': 110.4894158} -7.770542  110.489416   \n",
              "1             {'lat': -7.7705416, 'lng': 110.4894158} -7.770542  110.489416   \n",
              "2             {'lat': -7.7705416, 'lng': 110.4894158} -7.770542  110.489416   \n",
              "3             {'lat': -7.7705416, 'lng': 110.4894158} -7.770542  110.489416   \n",
              "4             {'lat': -7.7705416, 'lng': 110.4894158} -7.770542  110.489416   \n",
              "...                                               ...       ...         ...   \n",
              "9995  {'lat': -7.831666800000002, 'lng': 110.3945119} -7.831667  110.394512   \n",
              "9996  {'lat': -7.831666800000002, 'lng': 110.3945119} -7.831667  110.394512   \n",
              "9997  {'lat': -7.831666800000002, 'lng': 110.3945119} -7.831667  110.394512   \n",
              "9998  {'lat': -7.831666800000002, 'lng': 110.3945119} -7.831667  110.394512   \n",
              "9999  {'lat': -7.831666800000002, 'lng': 110.3945119} -7.831667  110.394512   \n",
              "\n",
              "      Unnamed: 11  Unnamed: 12  \n",
              "0             NaN          179  \n",
              "1             NaN          179  \n",
              "2             NaN          179  \n",
              "3             NaN          179  \n",
              "4             NaN          179  \n",
              "...           ...          ...  \n",
              "9995          NaN          140  \n",
              "9996          NaN          140  \n",
              "9997          NaN          140  \n",
              "9998          NaN          140  \n",
              "9999          NaN          140  \n",
              "\n",
              "[10000 rows x 17 columns]>"
            ]
          },
          "metadata": {},
          "execution_count": 45
        }
      ]
    },
    {
      "cell_type": "code",
      "source": [
        " data = main_table[[\"User_Id\", \"Place_Id\", \"Place_Name\", \"Age\", \"Category\", \"City\", \"Rating\", \"Place_Ratings\", \"Price\"]]\n",
        " data"
      ],
      "metadata": {
        "colab": {
          "base_uri": "https://localhost:8080/",
          "height": 423
        },
        "id": "9rv-Bj3Gwehf",
        "outputId": "38660b83-988a-496c-fd42-02b07bf4db6d"
      },
      "execution_count": 46,
      "outputs": [
        {
          "output_type": "execute_result",
          "data": {
            "text/plain": [
              "      User_Id  Place_Id       Place_Name  Age       Category        City  \\\n",
              "0           1       179  Candi Ratu Boko   20         Budaya  Yogyakarta   \n",
              "1          22       179  Candi Ratu Boko   25         Budaya  Yogyakarta   \n",
              "2          40       179  Candi Ratu Boko   27         Budaya  Yogyakarta   \n",
              "3          49       179  Candi Ratu Boko   24         Budaya  Yogyakarta   \n",
              "4          74       179  Candi Ratu Boko   30         Budaya  Yogyakarta   \n",
              "...       ...       ...              ...  ...            ...         ...   \n",
              "9995      240       140    Bendung Lepen   22  Taman Hiburan  Yogyakarta   \n",
              "9996      247       140    Bendung Lepen   28  Taman Hiburan  Yogyakarta   \n",
              "9997      261       140    Bendung Lepen   38  Taman Hiburan  Yogyakarta   \n",
              "9998      267       140    Bendung Lepen   31  Taman Hiburan  Yogyakarta   \n",
              "9999      268       140    Bendung Lepen   32  Taman Hiburan  Yogyakarta   \n",
              "\n",
              "      Rating  Place_Ratings  Price  \n",
              "0        4.6              3  75000  \n",
              "1        4.6              4  75000  \n",
              "2        4.6              3  75000  \n",
              "3        4.6              5  75000  \n",
              "4        4.6              3  75000  \n",
              "...      ...            ...    ...  \n",
              "9995     4.6              3      0  \n",
              "9996     4.6              4      0  \n",
              "9997     4.6              4      0  \n",
              "9998     4.6              3      0  \n",
              "9999     4.6              2      0  \n",
              "\n",
              "[10000 rows x 9 columns]"
            ],
            "text/html": [
              "\n",
              "  <div id=\"df-a3099cbd-d992-4186-8743-5bee75ca5635\" class=\"colab-df-container\">\n",
              "    <div>\n",
              "<style scoped>\n",
              "    .dataframe tbody tr th:only-of-type {\n",
              "        vertical-align: middle;\n",
              "    }\n",
              "\n",
              "    .dataframe tbody tr th {\n",
              "        vertical-align: top;\n",
              "    }\n",
              "\n",
              "    .dataframe thead th {\n",
              "        text-align: right;\n",
              "    }\n",
              "</style>\n",
              "<table border=\"1\" class=\"dataframe\">\n",
              "  <thead>\n",
              "    <tr style=\"text-align: right;\">\n",
              "      <th></th>\n",
              "      <th>User_Id</th>\n",
              "      <th>Place_Id</th>\n",
              "      <th>Place_Name</th>\n",
              "      <th>Age</th>\n",
              "      <th>Category</th>\n",
              "      <th>City</th>\n",
              "      <th>Rating</th>\n",
              "      <th>Place_Ratings</th>\n",
              "      <th>Price</th>\n",
              "    </tr>\n",
              "  </thead>\n",
              "  <tbody>\n",
              "    <tr>\n",
              "      <th>0</th>\n",
              "      <td>1</td>\n",
              "      <td>179</td>\n",
              "      <td>Candi Ratu Boko</td>\n",
              "      <td>20</td>\n",
              "      <td>Budaya</td>\n",
              "      <td>Yogyakarta</td>\n",
              "      <td>4.6</td>\n",
              "      <td>3</td>\n",
              "      <td>75000</td>\n",
              "    </tr>\n",
              "    <tr>\n",
              "      <th>1</th>\n",
              "      <td>22</td>\n",
              "      <td>179</td>\n",
              "      <td>Candi Ratu Boko</td>\n",
              "      <td>25</td>\n",
              "      <td>Budaya</td>\n",
              "      <td>Yogyakarta</td>\n",
              "      <td>4.6</td>\n",
              "      <td>4</td>\n",
              "      <td>75000</td>\n",
              "    </tr>\n",
              "    <tr>\n",
              "      <th>2</th>\n",
              "      <td>40</td>\n",
              "      <td>179</td>\n",
              "      <td>Candi Ratu Boko</td>\n",
              "      <td>27</td>\n",
              "      <td>Budaya</td>\n",
              "      <td>Yogyakarta</td>\n",
              "      <td>4.6</td>\n",
              "      <td>3</td>\n",
              "      <td>75000</td>\n",
              "    </tr>\n",
              "    <tr>\n",
              "      <th>3</th>\n",
              "      <td>49</td>\n",
              "      <td>179</td>\n",
              "      <td>Candi Ratu Boko</td>\n",
              "      <td>24</td>\n",
              "      <td>Budaya</td>\n",
              "      <td>Yogyakarta</td>\n",
              "      <td>4.6</td>\n",
              "      <td>5</td>\n",
              "      <td>75000</td>\n",
              "    </tr>\n",
              "    <tr>\n",
              "      <th>4</th>\n",
              "      <td>74</td>\n",
              "      <td>179</td>\n",
              "      <td>Candi Ratu Boko</td>\n",
              "      <td>30</td>\n",
              "      <td>Budaya</td>\n",
              "      <td>Yogyakarta</td>\n",
              "      <td>4.6</td>\n",
              "      <td>3</td>\n",
              "      <td>75000</td>\n",
              "    </tr>\n",
              "    <tr>\n",
              "      <th>...</th>\n",
              "      <td>...</td>\n",
              "      <td>...</td>\n",
              "      <td>...</td>\n",
              "      <td>...</td>\n",
              "      <td>...</td>\n",
              "      <td>...</td>\n",
              "      <td>...</td>\n",
              "      <td>...</td>\n",
              "      <td>...</td>\n",
              "    </tr>\n",
              "    <tr>\n",
              "      <th>9995</th>\n",
              "      <td>240</td>\n",
              "      <td>140</td>\n",
              "      <td>Bendung Lepen</td>\n",
              "      <td>22</td>\n",
              "      <td>Taman Hiburan</td>\n",
              "      <td>Yogyakarta</td>\n",
              "      <td>4.6</td>\n",
              "      <td>3</td>\n",
              "      <td>0</td>\n",
              "    </tr>\n",
              "    <tr>\n",
              "      <th>9996</th>\n",
              "      <td>247</td>\n",
              "      <td>140</td>\n",
              "      <td>Bendung Lepen</td>\n",
              "      <td>28</td>\n",
              "      <td>Taman Hiburan</td>\n",
              "      <td>Yogyakarta</td>\n",
              "      <td>4.6</td>\n",
              "      <td>4</td>\n",
              "      <td>0</td>\n",
              "    </tr>\n",
              "    <tr>\n",
              "      <th>9997</th>\n",
              "      <td>261</td>\n",
              "      <td>140</td>\n",
              "      <td>Bendung Lepen</td>\n",
              "      <td>38</td>\n",
              "      <td>Taman Hiburan</td>\n",
              "      <td>Yogyakarta</td>\n",
              "      <td>4.6</td>\n",
              "      <td>4</td>\n",
              "      <td>0</td>\n",
              "    </tr>\n",
              "    <tr>\n",
              "      <th>9998</th>\n",
              "      <td>267</td>\n",
              "      <td>140</td>\n",
              "      <td>Bendung Lepen</td>\n",
              "      <td>31</td>\n",
              "      <td>Taman Hiburan</td>\n",
              "      <td>Yogyakarta</td>\n",
              "      <td>4.6</td>\n",
              "      <td>3</td>\n",
              "      <td>0</td>\n",
              "    </tr>\n",
              "    <tr>\n",
              "      <th>9999</th>\n",
              "      <td>268</td>\n",
              "      <td>140</td>\n",
              "      <td>Bendung Lepen</td>\n",
              "      <td>32</td>\n",
              "      <td>Taman Hiburan</td>\n",
              "      <td>Yogyakarta</td>\n",
              "      <td>4.6</td>\n",
              "      <td>2</td>\n",
              "      <td>0</td>\n",
              "    </tr>\n",
              "  </tbody>\n",
              "</table>\n",
              "<p>10000 rows × 9 columns</p>\n",
              "</div>\n",
              "    <div class=\"colab-df-buttons\">\n",
              "\n",
              "  <div class=\"colab-df-container\">\n",
              "    <button class=\"colab-df-convert\" onclick=\"convertToInteractive('df-a3099cbd-d992-4186-8743-5bee75ca5635')\"\n",
              "            title=\"Convert this dataframe to an interactive table.\"\n",
              "            style=\"display:none;\">\n",
              "\n",
              "  <svg xmlns=\"http://www.w3.org/2000/svg\" height=\"24px\" viewBox=\"0 -960 960 960\">\n",
              "    <path d=\"M120-120v-720h720v720H120Zm60-500h600v-160H180v160Zm220 220h160v-160H400v160Zm0 220h160v-160H400v160ZM180-400h160v-160H180v160Zm440 0h160v-160H620v160ZM180-180h160v-160H180v160Zm440 0h160v-160H620v160Z\"/>\n",
              "  </svg>\n",
              "    </button>\n",
              "\n",
              "  <style>\n",
              "    .colab-df-container {\n",
              "      display:flex;\n",
              "      gap: 12px;\n",
              "    }\n",
              "\n",
              "    .colab-df-convert {\n",
              "      background-color: #E8F0FE;\n",
              "      border: none;\n",
              "      border-radius: 50%;\n",
              "      cursor: pointer;\n",
              "      display: none;\n",
              "      fill: #1967D2;\n",
              "      height: 32px;\n",
              "      padding: 0 0 0 0;\n",
              "      width: 32px;\n",
              "    }\n",
              "\n",
              "    .colab-df-convert:hover {\n",
              "      background-color: #E2EBFA;\n",
              "      box-shadow: 0px 1px 2px rgba(60, 64, 67, 0.3), 0px 1px 3px 1px rgba(60, 64, 67, 0.15);\n",
              "      fill: #174EA6;\n",
              "    }\n",
              "\n",
              "    .colab-df-buttons div {\n",
              "      margin-bottom: 4px;\n",
              "    }\n",
              "\n",
              "    [theme=dark] .colab-df-convert {\n",
              "      background-color: #3B4455;\n",
              "      fill: #D2E3FC;\n",
              "    }\n",
              "\n",
              "    [theme=dark] .colab-df-convert:hover {\n",
              "      background-color: #434B5C;\n",
              "      box-shadow: 0px 1px 3px 1px rgba(0, 0, 0, 0.15);\n",
              "      filter: drop-shadow(0px 1px 2px rgba(0, 0, 0, 0.3));\n",
              "      fill: #FFFFFF;\n",
              "    }\n",
              "  </style>\n",
              "\n",
              "    <script>\n",
              "      const buttonEl =\n",
              "        document.querySelector('#df-a3099cbd-d992-4186-8743-5bee75ca5635 button.colab-df-convert');\n",
              "      buttonEl.style.display =\n",
              "        google.colab.kernel.accessAllowed ? 'block' : 'none';\n",
              "\n",
              "      async function convertToInteractive(key) {\n",
              "        const element = document.querySelector('#df-a3099cbd-d992-4186-8743-5bee75ca5635');\n",
              "        const dataTable =\n",
              "          await google.colab.kernel.invokeFunction('convertToInteractive',\n",
              "                                                    [key], {});\n",
              "        if (!dataTable) return;\n",
              "\n",
              "        const docLinkHtml = 'Like what you see? Visit the ' +\n",
              "          '<a target=\"_blank\" href=https://colab.research.google.com/notebooks/data_table.ipynb>data table notebook</a>'\n",
              "          + ' to learn more about interactive tables.';\n",
              "        element.innerHTML = '';\n",
              "        dataTable['output_type'] = 'display_data';\n",
              "        await google.colab.output.renderOutput(dataTable, element);\n",
              "        const docLink = document.createElement('div');\n",
              "        docLink.innerHTML = docLinkHtml;\n",
              "        element.appendChild(docLink);\n",
              "      }\n",
              "    </script>\n",
              "  </div>\n",
              "\n",
              "\n",
              "<div id=\"df-5747a8f6-ab75-40ea-b5d5-1c76a160602a\">\n",
              "  <button class=\"colab-df-quickchart\" onclick=\"quickchart('df-5747a8f6-ab75-40ea-b5d5-1c76a160602a')\"\n",
              "            title=\"Suggest charts.\"\n",
              "            style=\"display:none;\">\n",
              "\n",
              "<svg xmlns=\"http://www.w3.org/2000/svg\" height=\"24px\"viewBox=\"0 0 24 24\"\n",
              "     width=\"24px\">\n",
              "    <g>\n",
              "        <path d=\"M19 3H5c-1.1 0-2 .9-2 2v14c0 1.1.9 2 2 2h14c1.1 0 2-.9 2-2V5c0-1.1-.9-2-2-2zM9 17H7v-7h2v7zm4 0h-2V7h2v10zm4 0h-2v-4h2v4z\"/>\n",
              "    </g>\n",
              "</svg>\n",
              "  </button>\n",
              "\n",
              "<style>\n",
              "  .colab-df-quickchart {\n",
              "      --bg-color: #E8F0FE;\n",
              "      --fill-color: #1967D2;\n",
              "      --hover-bg-color: #E2EBFA;\n",
              "      --hover-fill-color: #174EA6;\n",
              "      --disabled-fill-color: #AAA;\n",
              "      --disabled-bg-color: #DDD;\n",
              "  }\n",
              "\n",
              "  [theme=dark] .colab-df-quickchart {\n",
              "      --bg-color: #3B4455;\n",
              "      --fill-color: #D2E3FC;\n",
              "      --hover-bg-color: #434B5C;\n",
              "      --hover-fill-color: #FFFFFF;\n",
              "      --disabled-bg-color: #3B4455;\n",
              "      --disabled-fill-color: #666;\n",
              "  }\n",
              "\n",
              "  .colab-df-quickchart {\n",
              "    background-color: var(--bg-color);\n",
              "    border: none;\n",
              "    border-radius: 50%;\n",
              "    cursor: pointer;\n",
              "    display: none;\n",
              "    fill: var(--fill-color);\n",
              "    height: 32px;\n",
              "    padding: 0;\n",
              "    width: 32px;\n",
              "  }\n",
              "\n",
              "  .colab-df-quickchart:hover {\n",
              "    background-color: var(--hover-bg-color);\n",
              "    box-shadow: 0 1px 2px rgba(60, 64, 67, 0.3), 0 1px 3px 1px rgba(60, 64, 67, 0.15);\n",
              "    fill: var(--button-hover-fill-color);\n",
              "  }\n",
              "\n",
              "  .colab-df-quickchart-complete:disabled,\n",
              "  .colab-df-quickchart-complete:disabled:hover {\n",
              "    background-color: var(--disabled-bg-color);\n",
              "    fill: var(--disabled-fill-color);\n",
              "    box-shadow: none;\n",
              "  }\n",
              "\n",
              "  .colab-df-spinner {\n",
              "    border: 2px solid var(--fill-color);\n",
              "    border-color: transparent;\n",
              "    border-bottom-color: var(--fill-color);\n",
              "    animation:\n",
              "      spin 1s steps(1) infinite;\n",
              "  }\n",
              "\n",
              "  @keyframes spin {\n",
              "    0% {\n",
              "      border-color: transparent;\n",
              "      border-bottom-color: var(--fill-color);\n",
              "      border-left-color: var(--fill-color);\n",
              "    }\n",
              "    20% {\n",
              "      border-color: transparent;\n",
              "      border-left-color: var(--fill-color);\n",
              "      border-top-color: var(--fill-color);\n",
              "    }\n",
              "    30% {\n",
              "      border-color: transparent;\n",
              "      border-left-color: var(--fill-color);\n",
              "      border-top-color: var(--fill-color);\n",
              "      border-right-color: var(--fill-color);\n",
              "    }\n",
              "    40% {\n",
              "      border-color: transparent;\n",
              "      border-right-color: var(--fill-color);\n",
              "      border-top-color: var(--fill-color);\n",
              "    }\n",
              "    60% {\n",
              "      border-color: transparent;\n",
              "      border-right-color: var(--fill-color);\n",
              "    }\n",
              "    80% {\n",
              "      border-color: transparent;\n",
              "      border-right-color: var(--fill-color);\n",
              "      border-bottom-color: var(--fill-color);\n",
              "    }\n",
              "    90% {\n",
              "      border-color: transparent;\n",
              "      border-bottom-color: var(--fill-color);\n",
              "    }\n",
              "  }\n",
              "</style>\n",
              "\n",
              "  <script>\n",
              "    async function quickchart(key) {\n",
              "      const quickchartButtonEl =\n",
              "        document.querySelector('#' + key + ' button');\n",
              "      quickchartButtonEl.disabled = true;  // To prevent multiple clicks.\n",
              "      quickchartButtonEl.classList.add('colab-df-spinner');\n",
              "      try {\n",
              "        const charts = await google.colab.kernel.invokeFunction(\n",
              "            'suggestCharts', [key], {});\n",
              "      } catch (error) {\n",
              "        console.error('Error during call to suggestCharts:', error);\n",
              "      }\n",
              "      quickchartButtonEl.classList.remove('colab-df-spinner');\n",
              "      quickchartButtonEl.classList.add('colab-df-quickchart-complete');\n",
              "    }\n",
              "    (() => {\n",
              "      let quickchartButtonEl =\n",
              "        document.querySelector('#df-5747a8f6-ab75-40ea-b5d5-1c76a160602a button');\n",
              "      quickchartButtonEl.style.display =\n",
              "        google.colab.kernel.accessAllowed ? 'block' : 'none';\n",
              "    })();\n",
              "  </script>\n",
              "</div>\n",
              "    </div>\n",
              "  </div>\n"
            ]
          },
          "metadata": {},
          "execution_count": 46
        }
      ]
    },
    {
      "cell_type": "code",
      "source": [
        "data.isnull().sum()"
      ],
      "metadata": {
        "colab": {
          "base_uri": "https://localhost:8080/"
        },
        "id": "s3_Ra3Fq0qAV",
        "outputId": "a3147442-d53c-42df-a5a2-7a9148e3135a"
      },
      "execution_count": 47,
      "outputs": [
        {
          "output_type": "execute_result",
          "data": {
            "text/plain": [
              "User_Id          0\n",
              "Place_Id         0\n",
              "Place_Name       0\n",
              "Age              0\n",
              "Category         0\n",
              "City             0\n",
              "Rating           0\n",
              "Place_Ratings    0\n",
              "Price            0\n",
              "dtype: int64"
            ]
          },
          "metadata": {},
          "execution_count": 47
        }
      ]
    },
    {
      "cell_type": "code",
      "source": [
        "data.dtypes"
      ],
      "metadata": {
        "colab": {
          "base_uri": "https://localhost:8080/"
        },
        "id": "NBvjKPYJ2T6z",
        "outputId": "0e35e486-0774-4673-af0c-c7ec59159e7a"
      },
      "execution_count": 48,
      "outputs": [
        {
          "output_type": "execute_result",
          "data": {
            "text/plain": [
              "User_Id            int64\n",
              "Place_Id           int64\n",
              "Place_Name        object\n",
              "Age                int64\n",
              "Category          object\n",
              "City              object\n",
              "Rating           float64\n",
              "Place_Ratings      int64\n",
              "Price              int64\n",
              "dtype: object"
            ]
          },
          "metadata": {},
          "execution_count": 48
        }
      ]
    },
    {
      "cell_type": "code",
      "source": [
        "data.shape"
      ],
      "metadata": {
        "colab": {
          "base_uri": "https://localhost:8080/"
        },
        "id": "mUjMmKKqRP1C",
        "outputId": "be600092-2c91-49b7-83d2-8efe061bfc5f"
      },
      "execution_count": 49,
      "outputs": [
        {
          "output_type": "execute_result",
          "data": {
            "text/plain": [
              "(10000, 9)"
            ]
          },
          "metadata": {},
          "execution_count": 49
        }
      ]
    },
    {
      "cell_type": "code",
      "source": [
        "duplicates = data[data.duplicated()]\n",
        "print(\"number of duplicate rows: \", duplicates.shape)"
      ],
      "metadata": {
        "colab": {
          "base_uri": "https://localhost:8080/"
        },
        "id": "efy04IfhRYDm",
        "outputId": "a9151be2-8972-49e3-87b8-d7e7ad24d04c"
      },
      "execution_count": 50,
      "outputs": [
        {
          "output_type": "stream",
          "name": "stdout",
          "text": [
            "number of duplicate rows:  (79, 9)\n"
          ]
        }
      ]
    },
    {
      "cell_type": "code",
      "source": [
        "data=data.drop_duplicates()\n",
        "data"
      ],
      "metadata": {
        "colab": {
          "base_uri": "https://localhost:8080/",
          "height": 423
        },
        "id": "AWoj9uRARitc",
        "outputId": "7c16336c-ec68-4668-d7d8-709a8de12e29"
      },
      "execution_count": 51,
      "outputs": [
        {
          "output_type": "execute_result",
          "data": {
            "text/plain": [
              "      User_Id  Place_Id       Place_Name  Age       Category        City  \\\n",
              "0           1       179  Candi Ratu Boko   20         Budaya  Yogyakarta   \n",
              "1          22       179  Candi Ratu Boko   25         Budaya  Yogyakarta   \n",
              "2          40       179  Candi Ratu Boko   27         Budaya  Yogyakarta   \n",
              "3          49       179  Candi Ratu Boko   24         Budaya  Yogyakarta   \n",
              "4          74       179  Candi Ratu Boko   30         Budaya  Yogyakarta   \n",
              "...       ...       ...              ...  ...            ...         ...   \n",
              "9995      240       140    Bendung Lepen   22  Taman Hiburan  Yogyakarta   \n",
              "9996      247       140    Bendung Lepen   28  Taman Hiburan  Yogyakarta   \n",
              "9997      261       140    Bendung Lepen   38  Taman Hiburan  Yogyakarta   \n",
              "9998      267       140    Bendung Lepen   31  Taman Hiburan  Yogyakarta   \n",
              "9999      268       140    Bendung Lepen   32  Taman Hiburan  Yogyakarta   \n",
              "\n",
              "      Rating  Place_Ratings  Price  \n",
              "0        4.6              3  75000  \n",
              "1        4.6              4  75000  \n",
              "2        4.6              3  75000  \n",
              "3        4.6              5  75000  \n",
              "4        4.6              3  75000  \n",
              "...      ...            ...    ...  \n",
              "9995     4.6              3      0  \n",
              "9996     4.6              4      0  \n",
              "9997     4.6              4      0  \n",
              "9998     4.6              3      0  \n",
              "9999     4.6              2      0  \n",
              "\n",
              "[9921 rows x 9 columns]"
            ],
            "text/html": [
              "\n",
              "  <div id=\"df-50673fbf-06cd-42ae-a025-94d18e8aa804\" class=\"colab-df-container\">\n",
              "    <div>\n",
              "<style scoped>\n",
              "    .dataframe tbody tr th:only-of-type {\n",
              "        vertical-align: middle;\n",
              "    }\n",
              "\n",
              "    .dataframe tbody tr th {\n",
              "        vertical-align: top;\n",
              "    }\n",
              "\n",
              "    .dataframe thead th {\n",
              "        text-align: right;\n",
              "    }\n",
              "</style>\n",
              "<table border=\"1\" class=\"dataframe\">\n",
              "  <thead>\n",
              "    <tr style=\"text-align: right;\">\n",
              "      <th></th>\n",
              "      <th>User_Id</th>\n",
              "      <th>Place_Id</th>\n",
              "      <th>Place_Name</th>\n",
              "      <th>Age</th>\n",
              "      <th>Category</th>\n",
              "      <th>City</th>\n",
              "      <th>Rating</th>\n",
              "      <th>Place_Ratings</th>\n",
              "      <th>Price</th>\n",
              "    </tr>\n",
              "  </thead>\n",
              "  <tbody>\n",
              "    <tr>\n",
              "      <th>0</th>\n",
              "      <td>1</td>\n",
              "      <td>179</td>\n",
              "      <td>Candi Ratu Boko</td>\n",
              "      <td>20</td>\n",
              "      <td>Budaya</td>\n",
              "      <td>Yogyakarta</td>\n",
              "      <td>4.6</td>\n",
              "      <td>3</td>\n",
              "      <td>75000</td>\n",
              "    </tr>\n",
              "    <tr>\n",
              "      <th>1</th>\n",
              "      <td>22</td>\n",
              "      <td>179</td>\n",
              "      <td>Candi Ratu Boko</td>\n",
              "      <td>25</td>\n",
              "      <td>Budaya</td>\n",
              "      <td>Yogyakarta</td>\n",
              "      <td>4.6</td>\n",
              "      <td>4</td>\n",
              "      <td>75000</td>\n",
              "    </tr>\n",
              "    <tr>\n",
              "      <th>2</th>\n",
              "      <td>40</td>\n",
              "      <td>179</td>\n",
              "      <td>Candi Ratu Boko</td>\n",
              "      <td>27</td>\n",
              "      <td>Budaya</td>\n",
              "      <td>Yogyakarta</td>\n",
              "      <td>4.6</td>\n",
              "      <td>3</td>\n",
              "      <td>75000</td>\n",
              "    </tr>\n",
              "    <tr>\n",
              "      <th>3</th>\n",
              "      <td>49</td>\n",
              "      <td>179</td>\n",
              "      <td>Candi Ratu Boko</td>\n",
              "      <td>24</td>\n",
              "      <td>Budaya</td>\n",
              "      <td>Yogyakarta</td>\n",
              "      <td>4.6</td>\n",
              "      <td>5</td>\n",
              "      <td>75000</td>\n",
              "    </tr>\n",
              "    <tr>\n",
              "      <th>4</th>\n",
              "      <td>74</td>\n",
              "      <td>179</td>\n",
              "      <td>Candi Ratu Boko</td>\n",
              "      <td>30</td>\n",
              "      <td>Budaya</td>\n",
              "      <td>Yogyakarta</td>\n",
              "      <td>4.6</td>\n",
              "      <td>3</td>\n",
              "      <td>75000</td>\n",
              "    </tr>\n",
              "    <tr>\n",
              "      <th>...</th>\n",
              "      <td>...</td>\n",
              "      <td>...</td>\n",
              "      <td>...</td>\n",
              "      <td>...</td>\n",
              "      <td>...</td>\n",
              "      <td>...</td>\n",
              "      <td>...</td>\n",
              "      <td>...</td>\n",
              "      <td>...</td>\n",
              "    </tr>\n",
              "    <tr>\n",
              "      <th>9995</th>\n",
              "      <td>240</td>\n",
              "      <td>140</td>\n",
              "      <td>Bendung Lepen</td>\n",
              "      <td>22</td>\n",
              "      <td>Taman Hiburan</td>\n",
              "      <td>Yogyakarta</td>\n",
              "      <td>4.6</td>\n",
              "      <td>3</td>\n",
              "      <td>0</td>\n",
              "    </tr>\n",
              "    <tr>\n",
              "      <th>9996</th>\n",
              "      <td>247</td>\n",
              "      <td>140</td>\n",
              "      <td>Bendung Lepen</td>\n",
              "      <td>28</td>\n",
              "      <td>Taman Hiburan</td>\n",
              "      <td>Yogyakarta</td>\n",
              "      <td>4.6</td>\n",
              "      <td>4</td>\n",
              "      <td>0</td>\n",
              "    </tr>\n",
              "    <tr>\n",
              "      <th>9997</th>\n",
              "      <td>261</td>\n",
              "      <td>140</td>\n",
              "      <td>Bendung Lepen</td>\n",
              "      <td>38</td>\n",
              "      <td>Taman Hiburan</td>\n",
              "      <td>Yogyakarta</td>\n",
              "      <td>4.6</td>\n",
              "      <td>4</td>\n",
              "      <td>0</td>\n",
              "    </tr>\n",
              "    <tr>\n",
              "      <th>9998</th>\n",
              "      <td>267</td>\n",
              "      <td>140</td>\n",
              "      <td>Bendung Lepen</td>\n",
              "      <td>31</td>\n",
              "      <td>Taman Hiburan</td>\n",
              "      <td>Yogyakarta</td>\n",
              "      <td>4.6</td>\n",
              "      <td>3</td>\n",
              "      <td>0</td>\n",
              "    </tr>\n",
              "    <tr>\n",
              "      <th>9999</th>\n",
              "      <td>268</td>\n",
              "      <td>140</td>\n",
              "      <td>Bendung Lepen</td>\n",
              "      <td>32</td>\n",
              "      <td>Taman Hiburan</td>\n",
              "      <td>Yogyakarta</td>\n",
              "      <td>4.6</td>\n",
              "      <td>2</td>\n",
              "      <td>0</td>\n",
              "    </tr>\n",
              "  </tbody>\n",
              "</table>\n",
              "<p>9921 rows × 9 columns</p>\n",
              "</div>\n",
              "    <div class=\"colab-df-buttons\">\n",
              "\n",
              "  <div class=\"colab-df-container\">\n",
              "    <button class=\"colab-df-convert\" onclick=\"convertToInteractive('df-50673fbf-06cd-42ae-a025-94d18e8aa804')\"\n",
              "            title=\"Convert this dataframe to an interactive table.\"\n",
              "            style=\"display:none;\">\n",
              "\n",
              "  <svg xmlns=\"http://www.w3.org/2000/svg\" height=\"24px\" viewBox=\"0 -960 960 960\">\n",
              "    <path d=\"M120-120v-720h720v720H120Zm60-500h600v-160H180v160Zm220 220h160v-160H400v160Zm0 220h160v-160H400v160ZM180-400h160v-160H180v160Zm440 0h160v-160H620v160ZM180-180h160v-160H180v160Zm440 0h160v-160H620v160Z\"/>\n",
              "  </svg>\n",
              "    </button>\n",
              "\n",
              "  <style>\n",
              "    .colab-df-container {\n",
              "      display:flex;\n",
              "      gap: 12px;\n",
              "    }\n",
              "\n",
              "    .colab-df-convert {\n",
              "      background-color: #E8F0FE;\n",
              "      border: none;\n",
              "      border-radius: 50%;\n",
              "      cursor: pointer;\n",
              "      display: none;\n",
              "      fill: #1967D2;\n",
              "      height: 32px;\n",
              "      padding: 0 0 0 0;\n",
              "      width: 32px;\n",
              "    }\n",
              "\n",
              "    .colab-df-convert:hover {\n",
              "      background-color: #E2EBFA;\n",
              "      box-shadow: 0px 1px 2px rgba(60, 64, 67, 0.3), 0px 1px 3px 1px rgba(60, 64, 67, 0.15);\n",
              "      fill: #174EA6;\n",
              "    }\n",
              "\n",
              "    .colab-df-buttons div {\n",
              "      margin-bottom: 4px;\n",
              "    }\n",
              "\n",
              "    [theme=dark] .colab-df-convert {\n",
              "      background-color: #3B4455;\n",
              "      fill: #D2E3FC;\n",
              "    }\n",
              "\n",
              "    [theme=dark] .colab-df-convert:hover {\n",
              "      background-color: #434B5C;\n",
              "      box-shadow: 0px 1px 3px 1px rgba(0, 0, 0, 0.15);\n",
              "      filter: drop-shadow(0px 1px 2px rgba(0, 0, 0, 0.3));\n",
              "      fill: #FFFFFF;\n",
              "    }\n",
              "  </style>\n",
              "\n",
              "    <script>\n",
              "      const buttonEl =\n",
              "        document.querySelector('#df-50673fbf-06cd-42ae-a025-94d18e8aa804 button.colab-df-convert');\n",
              "      buttonEl.style.display =\n",
              "        google.colab.kernel.accessAllowed ? 'block' : 'none';\n",
              "\n",
              "      async function convertToInteractive(key) {\n",
              "        const element = document.querySelector('#df-50673fbf-06cd-42ae-a025-94d18e8aa804');\n",
              "        const dataTable =\n",
              "          await google.colab.kernel.invokeFunction('convertToInteractive',\n",
              "                                                    [key], {});\n",
              "        if (!dataTable) return;\n",
              "\n",
              "        const docLinkHtml = 'Like what you see? Visit the ' +\n",
              "          '<a target=\"_blank\" href=https://colab.research.google.com/notebooks/data_table.ipynb>data table notebook</a>'\n",
              "          + ' to learn more about interactive tables.';\n",
              "        element.innerHTML = '';\n",
              "        dataTable['output_type'] = 'display_data';\n",
              "        await google.colab.output.renderOutput(dataTable, element);\n",
              "        const docLink = document.createElement('div');\n",
              "        docLink.innerHTML = docLinkHtml;\n",
              "        element.appendChild(docLink);\n",
              "      }\n",
              "    </script>\n",
              "  </div>\n",
              "\n",
              "\n",
              "<div id=\"df-11d1bf0a-a14c-4083-83f1-de6886d953dd\">\n",
              "  <button class=\"colab-df-quickchart\" onclick=\"quickchart('df-11d1bf0a-a14c-4083-83f1-de6886d953dd')\"\n",
              "            title=\"Suggest charts.\"\n",
              "            style=\"display:none;\">\n",
              "\n",
              "<svg xmlns=\"http://www.w3.org/2000/svg\" height=\"24px\"viewBox=\"0 0 24 24\"\n",
              "     width=\"24px\">\n",
              "    <g>\n",
              "        <path d=\"M19 3H5c-1.1 0-2 .9-2 2v14c0 1.1.9 2 2 2h14c1.1 0 2-.9 2-2V5c0-1.1-.9-2-2-2zM9 17H7v-7h2v7zm4 0h-2V7h2v10zm4 0h-2v-4h2v4z\"/>\n",
              "    </g>\n",
              "</svg>\n",
              "  </button>\n",
              "\n",
              "<style>\n",
              "  .colab-df-quickchart {\n",
              "      --bg-color: #E8F0FE;\n",
              "      --fill-color: #1967D2;\n",
              "      --hover-bg-color: #E2EBFA;\n",
              "      --hover-fill-color: #174EA6;\n",
              "      --disabled-fill-color: #AAA;\n",
              "      --disabled-bg-color: #DDD;\n",
              "  }\n",
              "\n",
              "  [theme=dark] .colab-df-quickchart {\n",
              "      --bg-color: #3B4455;\n",
              "      --fill-color: #D2E3FC;\n",
              "      --hover-bg-color: #434B5C;\n",
              "      --hover-fill-color: #FFFFFF;\n",
              "      --disabled-bg-color: #3B4455;\n",
              "      --disabled-fill-color: #666;\n",
              "  }\n",
              "\n",
              "  .colab-df-quickchart {\n",
              "    background-color: var(--bg-color);\n",
              "    border: none;\n",
              "    border-radius: 50%;\n",
              "    cursor: pointer;\n",
              "    display: none;\n",
              "    fill: var(--fill-color);\n",
              "    height: 32px;\n",
              "    padding: 0;\n",
              "    width: 32px;\n",
              "  }\n",
              "\n",
              "  .colab-df-quickchart:hover {\n",
              "    background-color: var(--hover-bg-color);\n",
              "    box-shadow: 0 1px 2px rgba(60, 64, 67, 0.3), 0 1px 3px 1px rgba(60, 64, 67, 0.15);\n",
              "    fill: var(--button-hover-fill-color);\n",
              "  }\n",
              "\n",
              "  .colab-df-quickchart-complete:disabled,\n",
              "  .colab-df-quickchart-complete:disabled:hover {\n",
              "    background-color: var(--disabled-bg-color);\n",
              "    fill: var(--disabled-fill-color);\n",
              "    box-shadow: none;\n",
              "  }\n",
              "\n",
              "  .colab-df-spinner {\n",
              "    border: 2px solid var(--fill-color);\n",
              "    border-color: transparent;\n",
              "    border-bottom-color: var(--fill-color);\n",
              "    animation:\n",
              "      spin 1s steps(1) infinite;\n",
              "  }\n",
              "\n",
              "  @keyframes spin {\n",
              "    0% {\n",
              "      border-color: transparent;\n",
              "      border-bottom-color: var(--fill-color);\n",
              "      border-left-color: var(--fill-color);\n",
              "    }\n",
              "    20% {\n",
              "      border-color: transparent;\n",
              "      border-left-color: var(--fill-color);\n",
              "      border-top-color: var(--fill-color);\n",
              "    }\n",
              "    30% {\n",
              "      border-color: transparent;\n",
              "      border-left-color: var(--fill-color);\n",
              "      border-top-color: var(--fill-color);\n",
              "      border-right-color: var(--fill-color);\n",
              "    }\n",
              "    40% {\n",
              "      border-color: transparent;\n",
              "      border-right-color: var(--fill-color);\n",
              "      border-top-color: var(--fill-color);\n",
              "    }\n",
              "    60% {\n",
              "      border-color: transparent;\n",
              "      border-right-color: var(--fill-color);\n",
              "    }\n",
              "    80% {\n",
              "      border-color: transparent;\n",
              "      border-right-color: var(--fill-color);\n",
              "      border-bottom-color: var(--fill-color);\n",
              "    }\n",
              "    90% {\n",
              "      border-color: transparent;\n",
              "      border-bottom-color: var(--fill-color);\n",
              "    }\n",
              "  }\n",
              "</style>\n",
              "\n",
              "  <script>\n",
              "    async function quickchart(key) {\n",
              "      const quickchartButtonEl =\n",
              "        document.querySelector('#' + key + ' button');\n",
              "      quickchartButtonEl.disabled = true;  // To prevent multiple clicks.\n",
              "      quickchartButtonEl.classList.add('colab-df-spinner');\n",
              "      try {\n",
              "        const charts = await google.colab.kernel.invokeFunction(\n",
              "            'suggestCharts', [key], {});\n",
              "      } catch (error) {\n",
              "        console.error('Error during call to suggestCharts:', error);\n",
              "      }\n",
              "      quickchartButtonEl.classList.remove('colab-df-spinner');\n",
              "      quickchartButtonEl.classList.add('colab-df-quickchart-complete');\n",
              "    }\n",
              "    (() => {\n",
              "      let quickchartButtonEl =\n",
              "        document.querySelector('#df-11d1bf0a-a14c-4083-83f1-de6886d953dd button');\n",
              "      quickchartButtonEl.style.display =\n",
              "        google.colab.kernel.accessAllowed ? 'block' : 'none';\n",
              "    })();\n",
              "  </script>\n",
              "</div>\n",
              "    </div>\n",
              "  </div>\n"
            ]
          },
          "metadata": {},
          "execution_count": 51
        }
      ]
    },
    {
      "cell_type": "code",
      "source": [
        "data.count()"
      ],
      "metadata": {
        "colab": {
          "base_uri": "https://localhost:8080/"
        },
        "id": "0iOoTpimSFml",
        "outputId": "a0b5f91b-7ab2-48bd-b661-954967a419a4"
      },
      "execution_count": 52,
      "outputs": [
        {
          "output_type": "execute_result",
          "data": {
            "text/plain": [
              "User_Id          9921\n",
              "Place_Id         9921\n",
              "Place_Name       9921\n",
              "Age              9921\n",
              "Category         9921\n",
              "City             9921\n",
              "Rating           9921\n",
              "Place_Ratings    9921\n",
              "Price            9921\n",
              "dtype: int64"
            ]
          },
          "metadata": {},
          "execution_count": 52
        }
      ]
    },
    {
      "cell_type": "code",
      "source": [
        "sns.boxplot(x=data['Price'])"
      ],
      "metadata": {
        "colab": {
          "base_uri": "https://localhost:8080/",
          "height": 475
        },
        "id": "ffkTXY_CSs4U",
        "outputId": "f8718a59-a942-439c-9a10-753ca051ca5f"
      },
      "execution_count": 53,
      "outputs": [
        {
          "output_type": "execute_result",
          "data": {
            "text/plain": [
              "<Axes: xlabel='Price'>"
            ]
          },
          "metadata": {},
          "execution_count": 53
        },
        {
          "output_type": "display_data",
          "data": {
            "text/plain": [
              "<Figure size 640x480 with 1 Axes>"
            ],
            "image/png": "[encoded data removed]"
          },
          "metadata": {}
        }
      ]
    },
    {
      "cell_type": "code",
      "source": [
        "sns.boxplot(x=data['Age'])"
      ],
      "metadata": {
        "colab": {
          "base_uri": "https://localhost:8080/",
          "height": 475
        },
        "id": "xHCUSA7zTAYu",
        "outputId": "9164e013-b428-4126-c7b3-b990d73eeca1"
      },
      "execution_count": 54,
      "outputs": [
        {
          "output_type": "execute_result",
          "data": {
            "text/plain": [
              "<Axes: xlabel='Age'>"
            ]
          },
          "metadata": {},
          "execution_count": 54
        },
        {
          "output_type": "display_data",
          "data": {
            "text/plain": [
              "<Figure size 640x480 with 1 Axes>"
            ],
            "image/png": "[encoded data removed]"
          },
          "metadata": {}
        }
      ]
    },
    {
      "cell_type": "code",
      "source": [],
      "metadata": {
        "id": "uFyPXuCif1z5"
      },
      "execution_count": 54,
      "outputs": []
    },
    {
      "cell_type": "code",
      "source": [
        "sns.boxplot(x=data['Place_Ratings'])"
      ],
      "metadata": {
        "colab": {
          "base_uri": "https://localhost:8080/",
          "height": 475
        },
        "id": "bLXKzM5TTKmu",
        "outputId": "9c7e44f1-66e8-4e4c-cb78-350067d99cbb"
      },
      "execution_count": 55,
      "outputs": [
        {
          "output_type": "execute_result",
          "data": {
            "text/plain": [
              "<Axes: xlabel='Place_Ratings'>"
            ]
          },
          "metadata": {},
          "execution_count": 55
        },
        {
          "output_type": "display_data",
          "data": {
            "text/plain": [
              "<Figure size 640x480 with 1 Axes>"
            ],
            "image/png": "[encoded data removed]"
          },
          "metadata": {}
        }
      ]
    },
    {
      "cell_type": "code",
      "source": [],
      "metadata": {
        "id": "p2Mt_brkf3Z1"
      },
      "execution_count": 55,
      "outputs": []
    },
    {
      "cell_type": "code",
      "source": [
        "sns.boxplot(x=data['Rating'])"
      ],
      "metadata": {
        "colab": {
          "base_uri": "https://localhost:8080/",
          "height": 475
        },
        "id": "APSGrd0YTUM7",
        "outputId": "2727dcc6-e4aa-444e-955b-cce625ab0ad8"
      },
      "execution_count": 56,
      "outputs": [
        {
          "output_type": "execute_result",
          "data": {
            "text/plain": [
              "<Axes: xlabel='Rating'>"
            ]
          },
          "metadata": {},
          "execution_count": 56
        },
        {
          "output_type": "display_data",
          "data": {
            "text/plain": [
              "<Figure size 640x480 with 1 Axes>"
            ],
            "image/png": "[encoded data removed]"
          },
          "metadata": {}
        }
      ]
    },
    {
      "cell_type": "code",
      "source": [
        "Q1 = data.quantile(0.25)\n",
        "Q3 = data.quantile(0.75)\n",
        "IQR = Q3 - Q1\n",
        "print(IQR)"
      ],
      "metadata": {
        "colab": {
          "base_uri": "https://localhost:8080/"
        },
        "id": "7XiPorWeiQli",
        "outputId": "c4cdf1a9-2147-43be-f3eb-e6927bb3fb5f"
      },
      "execution_count": 57,
      "outputs": [
        {
          "output_type": "stream",
          "name": "stdout",
          "text": [
            "User_Id            149.0\n",
            "Place_Id           220.0\n",
            "Age                 10.0\n",
            "Rating               0.2\n",
            "Place_Ratings        2.0\n",
            "Price            20000.0\n",
            "dtype: float64\n"
          ]
        },
        {
          "output_type": "stream",
          "name": "stderr",
          "text": [
            "<ipython-input-57-3fa956ee7617>:1: FutureWarning: The default value of numeric_only in DataFrame.quantile is deprecated. In a future version, it will default to False. Select only valid columns or specify the value of numeric_only to silence this warning.\n",
            "  Q1 = data.quantile(0.25)\n",
            "<ipython-input-57-3fa956ee7617>:2: FutureWarning: The default value of numeric_only in DataFrame.quantile is deprecated. In a future version, it will default to False. Select only valid columns or specify the value of numeric_only to silence this warning.\n",
            "  Q3 = data.quantile(0.75)\n"
          ]
        }
      ]
    },
    {
      "cell_type": "code",
      "source": [
        "data = data[~((data < (Q1 - 1.5 * IQR)) |(data > (Q3 + 1.5 * IQR))).any(axis=1)]\n",
        "data.head"
      ],
      "metadata": {
        "colab": {
          "base_uri": "https://localhost:8080/"
        },
        "id": "Ii6JEvauicDF",
        "outputId": "3862de2a-c7a8-4f59-ff26-3b5270bdc69c"
      },
      "execution_count": 58,
      "outputs": [
        {
          "output_type": "stream",
          "name": "stderr",
          "text": [
            "<ipython-input-58-0fb0d2902feb>:1: FutureWarning: Automatic reindexing on DataFrame vs Series comparisons is deprecated and will raise ValueError in a future version. Do `left, right = left.align(right, axis=1, copy=False)` before e.g. `left == right`\n",
            "  data = data[~((data < (Q1 - 1.5 * IQR)) |(data > (Q3 + 1.5 * IQR))).any(axis=1)]\n"
          ]
        },
        {
          "output_type": "execute_result",
          "data": {
            "text/plain": [
              "<bound method NDFrame.head of       User_Id  Place_Id              Place_Name  Age       Category  \\\n",
              "82          1       373  Museum Kereta Ambarawa   20         Budaya   \n",
              "83         21       373  Museum Kereta Ambarawa   30         Budaya   \n",
              "84         30       373  Museum Kereta Ambarawa   30         Budaya   \n",
              "85         30       373  Museum Kereta Ambarawa   30         Budaya   \n",
              "86         42       373  Museum Kereta Ambarawa   37         Budaya   \n",
              "...       ...       ...                     ...  ...            ...   \n",
              "9995      240       140           Bendung Lepen   22  Taman Hiburan   \n",
              "9996      247       140           Bendung Lepen   28  Taman Hiburan   \n",
              "9997      261       140           Bendung Lepen   38  Taman Hiburan   \n",
              "9998      267       140           Bendung Lepen   31  Taman Hiburan   \n",
              "9999      268       140           Bendung Lepen   32  Taman Hiburan   \n",
              "\n",
              "            City  Rating  Place_Ratings  Price  \n",
              "82      Semarang     4.5              3  10000  \n",
              "83      Semarang     4.5              5  10000  \n",
              "84      Semarang     4.5              2  10000  \n",
              "85      Semarang     4.5              3  10000  \n",
              "86      Semarang     4.5              3  10000  \n",
              "...          ...     ...            ...    ...  \n",
              "9995  Yogyakarta     4.6              3      0  \n",
              "9996  Yogyakarta     4.6              4      0  \n",
              "9997  Yogyakarta     4.6              4      0  \n",
              "9998  Yogyakarta     4.6              3      0  \n",
              "9999  Yogyakarta     4.6              2      0  \n",
              "\n",
              "[7955 rows x 9 columns]>"
            ]
          },
          "metadata": {},
          "execution_count": 58
        }
      ]
    },
    {
      "cell_type": "code",
      "source": [
        "sns.boxplot(x=data['Rating'])"
      ],
      "metadata": {
        "colab": {
          "base_uri": "https://localhost:8080/",
          "height": 475
        },
        "id": "L3eabxhMjtSD",
        "outputId": "a2cb5008-cf9d-4c8c-b613-7cf4d211e625"
      },
      "execution_count": 59,
      "outputs": [
        {
          "output_type": "execute_result",
          "data": {
            "text/plain": [
              "<Axes: xlabel='Rating'>"
            ]
          },
          "metadata": {},
          "execution_count": 59
        },
        {
          "output_type": "display_data",
          "data": {
            "text/plain": [
              "<Figure size 640x480 with 1 Axes>"
            ],
            "image/png": "[encoded data removed]"
          },
          "metadata": {}
        }
      ]
    },
    {
      "cell_type": "code",
      "source": [
        "sns.boxplot(x=data['Price'])"
      ],
      "metadata": {
        "colab": {
          "base_uri": "https://localhost:8080/",
          "height": 475
        },
        "id": "P94BjTi7j04X",
        "outputId": "15f0f3a4-af3e-40f5-c891-08a7b5bd505e"
      },
      "execution_count": 60,
      "outputs": [
        {
          "output_type": "execute_result",
          "data": {
            "text/plain": [
              "<Axes: xlabel='Price'>"
            ]
          },
          "metadata": {},
          "execution_count": 60
        },
        {
          "output_type": "display_data",
          "data": {
            "text/plain": [
              "<Figure size 640x480 with 1 Axes>"
            ],
            "image/png": "[encoded data removed]"
          },
          "metadata": {}
        }
      ]
    },
    {
      "cell_type": "code",
      "source": [
        "import matplotlib.pyplot as plt\n",
        "%matplotlib inline\n",
        "sns.set(color_codes=True)"
      ],
      "metadata": {
        "id": "Y0QnqRwGmtCT"
      },
      "execution_count": 61,
      "outputs": []
    },
    {
      "cell_type": "code",
      "source": [
        "def translate_category(item):\n",
        "  if item == \"Taman Hiburan\": return \"Amusement Park\"\n",
        "  elif item == \"Tempat Ibadah\": return \"Place of Worship\"\n",
        "  elif item == \"Budaya\": return \"Culture\"\n",
        "  elif item == \"Cagar Alam\": return \"Natural Reserve\"\n",
        "  elif item == \"Bahari\": return \"Nautical\"\n",
        "  elif item == \"Pusat Perbelanjaan\": return \"Shopping Center\"\n",
        "\n",
        "data[\"Category\"] = data[\"Category\"].apply(translate_category)\n"
      ],
      "metadata": {
        "colab": {
          "base_uri": "https://localhost:8080/"
        },
        "id": "HWMXTYPqoCzT",
        "outputId": "0b974596-82b2-4bdd-dabf-3c07abfa7b1b"
      },
      "execution_count": 62,
      "outputs": [
        {
          "output_type": "stream",
          "name": "stderr",
          "text": [
            "<ipython-input-62-cd975d867676>:9: SettingWithCopyWarning: \n",
            "A value is trying to be set on a copy of a slice from a DataFrame.\n",
            "Try using .loc[row_indexer,col_indexer] = value instead\n",
            "\n",
            "See the caveats in the documentation: https://pandas.pydata.org/pandas-docs/stable/user_guide/indexing.html#returning-a-view-versus-a-copy\n",
            "  data[\"Category\"] = data[\"Category\"].apply(translate_category)\n"
          ]
        }
      ]
    },
    {
      "cell_type": "code",
      "source": [
        "\n",
        "data.Category.value_counts().nlargest(40).plot(kind='bar', figsize=(10,5))\n",
        "plt.title(\"Most visited Category\")\n",
        "plt.ylabel('Number of visits')\n",
        "plt.xlabel('Category')"
      ],
      "metadata": {
        "colab": {
          "base_uri": "https://localhost:8080/",
          "height": 628
        },
        "id": "9qbZCyodlQ7s",
        "outputId": "f13e623c-0830-4918-c83e-d609cdbb7fe9"
      },
      "execution_count": 63,
      "outputs": [
        {
          "output_type": "execute_result",
          "data": {
            "text/plain": [
              "Text(0.5, 0, 'Category')"
            ]
          },
          "metadata": {},
          "execution_count": 63
        },
        {
          "output_type": "display_data",
          "data": {
            "text/plain": [
              "<Figure size 1000x500 with 1 Axes>"
            ],
            "image/png": "[encoded data removed]"
          },
          "metadata": {}
        }
      ]
    },
    {
      "cell_type": "code",
      "source": [
        "Avg_rating = data.groupby('Category')['Rating'].mean()\n",
        "\n",
        "plt.figure(figsize=(10, 6))\n",
        "Avg_rating.plot(kind='bar')\n",
        "plt.title(\"Average Rating by Category\")\n",
        "plt.xlabel(\"Category\")\n",
        "plt.ylabel(\"Average Rating\")\n",
        "plt.show()"
      ],
      "metadata": {
        "colab": {
          "base_uri": "https://localhost:8080/",
          "height": 688
        },
        "id": "Vj4qb5SJyRMt",
        "outputId": "251747bf-18f7-48c5-ab67-16be78552bfc"
      },
      "execution_count": 64,
      "outputs": [
        {
          "output_type": "display_data",
          "data": {
            "text/plain": [
              "<Figure size 1000x600 with 1 Axes>"
            ],
            "image/png": "[encoded data removed]"
          },
          "metadata": {}
        }
      ]
    },
    {
      "cell_type": "code",
      "source": [
        "\n",
        "Avg_price = data.groupby('Category')['Price'].mean()\n",
        "\n",
        "plt.figure(figsize=(10, 6))\n",
        "Avg_price.plot(kind='bar')\n",
        "plt.title(\"Average Price by Category\")\n",
        "plt.xlabel(\"Category\")\n",
        "plt.ylabel(\"Average Price\")\n",
        "plt.show()"
      ],
      "metadata": {
        "colab": {
          "base_uri": "https://localhost:8080/",
          "height": 688
        },
        "id": "WXBCtFk60fBM",
        "outputId": "630fe670-73e8-4822-d71e-3874b3b4e23a"
      },
      "execution_count": 65,
      "outputs": [
        {
          "output_type": "display_data",
          "data": {
            "text/plain": [
              "<Figure size 1000x600 with 1 Axes>"
            ],
            "image/png": "[encoded data removed]"
          },
          "metadata": {}
        }
      ]
    },
    {
      "cell_type": "code",
      "source": [
        "age_category_counts = data.groupby(['Age', 'Category']).size().reset_index(name='Count')\n",
        "\n",
        "most_visited_by_age = age_category_counts.groupby('Age')['Category', 'Count'].agg({'Category': 'first', 'Count': 'max'}).reset_index()\n",
        "\n",
        "pivot_table = most_visited_by_age.pivot(index='Age', columns='Category', values='Count')\n",
        "\n",
        "plt.figure(figsize=(12, 6))\n",
        "pivot_table.plot(kind='bar', stacked=True)\n",
        "plt.title(\"Category Distribution by Age\")\n",
        "plt.xlabel(\"Age\")\n",
        "plt.ylabel(\"Count\")\n",
        "plt.legend(title='Category', bbox_to_anchor=(1.05, 1), loc='upper left')\n",
        "plt.xticks(rotation=0)\n",
        "plt.show()"
      ],
      "metadata": {
        "colab": {
          "base_uri": "https://localhost:8080/",
          "height": 532
        },
        "id": "MySoSuzf1heL",
        "outputId": "9222ca05-dc0c-4b1f-d46e-73fc0b98e6f6"
      },
      "execution_count": 66,
      "outputs": [
        {
          "output_type": "stream",
          "name": "stderr",
          "text": [
            "<ipython-input-66-2dc6a5b7eb96>:3: FutureWarning: Indexing with multiple keys (implicitly converted to a tuple of keys) will be deprecated, use a list instead.\n",
            "  most_visited_by_age = age_category_counts.groupby('Age')['Category', 'Count'].agg({'Category': 'first', 'Count': 'max'}).reset_index()\n"
          ]
        },
        {
          "output_type": "display_data",
          "data": {
            "text/plain": [
              "<Figure size 1200x600 with 0 Axes>"
            ]
          },
          "metadata": {}
        },
        {
          "output_type": "display_data",
          "data": {
            "text/plain": [
              "<Figure size 640x480 with 1 Axes>"
            ],
            "image/png": "[encoded data removed]"
          },
          "metadata": {}
        }
      ]
    }
  ]
}